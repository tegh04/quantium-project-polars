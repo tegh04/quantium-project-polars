{
 "cells": [
  {
   "cell_type": "code",
   "execution_count": 1,
   "id": "c884b792-9296-4660-8d74-0c9298a51e18",
   "metadata": {},
   "outputs": [],
   "source": [
    "import polars as pl\n",
    "import pandas as pd"
   ]
  },
  {
   "cell_type": "code",
   "execution_count": 2,
   "id": "67f057ff-1666-4ae5-ad5e-f7febf4dbc11",
   "metadata": {},
   "outputs": [],
   "source": [
    "customer = pl.read_csv(\"QVI_purchase_behaviour.csv\", try_parse_dates=True)"
   ]
  },
  {
   "cell_type": "code",
   "execution_count": 3,
   "id": "4262a541-0aba-44d1-87af-0d30642dfc6a",
   "metadata": {},
   "outputs": [],
   "source": [
    "# utf8 error if you use read_csv\n",
    "# Also need to install fastexcel via conda\n",
    "transaction = pl.read_excel(\"QVI_transaction_data.xlsx\", schema_overrides={\"DATE\":pl.Date})"
   ]
  },
  {
   "cell_type": "code",
   "execution_count": null,
   "id": "14846794-b674-4867-bf94-d191ab74a350",
   "metadata": {},
   "outputs": [],
   "source": []
  },
  {
   "cell_type": "code",
   "execution_count": 4,
   "id": "c42e98ca-2265-46d8-b6e0-8d96ef01d526",
   "metadata": {},
   "outputs": [
    {
     "data": {
      "text/html": [
       "<div><style>\n",
       ".dataframe > thead > tr,\n",
       ".dataframe > tbody > tr {\n",
       "  text-align: right;\n",
       "  white-space: pre-wrap;\n",
       "}\n",
       "</style>\n",
       "<small>shape: (72_637, 3)</small><table border=\"1\" class=\"dataframe\"><thead><tr><th>LYLTY_CARD_NBR</th><th>LIFESTAGE</th><th>PREMIUM_CUSTOMER</th></tr><tr><td>i64</td><td>str</td><td>str</td></tr></thead><tbody><tr><td>1000</td><td>&quot;YOUNG SINGLES/COUPLES&quot;</td><td>&quot;Premium&quot;</td></tr><tr><td>1002</td><td>&quot;YOUNG SINGLES/COUPLES&quot;</td><td>&quot;Mainstream&quot;</td></tr><tr><td>1003</td><td>&quot;YOUNG FAMILIES&quot;</td><td>&quot;Budget&quot;</td></tr><tr><td>1004</td><td>&quot;OLDER SINGLES/COUPLES&quot;</td><td>&quot;Mainstream&quot;</td></tr><tr><td>1005</td><td>&quot;MIDAGE SINGLES/COUPLES&quot;</td><td>&quot;Mainstream&quot;</td></tr><tr><td>&hellip;</td><td>&hellip;</td><td>&hellip;</td></tr><tr><td>2370651</td><td>&quot;MIDAGE SINGLES/COUPLES&quot;</td><td>&quot;Mainstream&quot;</td></tr><tr><td>2370701</td><td>&quot;YOUNG FAMILIES&quot;</td><td>&quot;Mainstream&quot;</td></tr><tr><td>2370751</td><td>&quot;YOUNG FAMILIES&quot;</td><td>&quot;Premium&quot;</td></tr><tr><td>2370961</td><td>&quot;OLDER FAMILIES&quot;</td><td>&quot;Budget&quot;</td></tr><tr><td>2373711</td><td>&quot;YOUNG SINGLES/COUPLES&quot;</td><td>&quot;Mainstream&quot;</td></tr></tbody></table></div>"
      ],
      "text/plain": [
       "shape: (72_637, 3)\n",
       "┌────────────────┬────────────────────────┬──────────────────┐\n",
       "│ LYLTY_CARD_NBR ┆ LIFESTAGE              ┆ PREMIUM_CUSTOMER │\n",
       "│ ---            ┆ ---                    ┆ ---              │\n",
       "│ i64            ┆ str                    ┆ str              │\n",
       "╞════════════════╪════════════════════════╪══════════════════╡\n",
       "│ 1000           ┆ YOUNG SINGLES/COUPLES  ┆ Premium          │\n",
       "│ 1002           ┆ YOUNG SINGLES/COUPLES  ┆ Mainstream       │\n",
       "│ 1003           ┆ YOUNG FAMILIES         ┆ Budget           │\n",
       "│ 1004           ┆ OLDER SINGLES/COUPLES  ┆ Mainstream       │\n",
       "│ 1005           ┆ MIDAGE SINGLES/COUPLES ┆ Mainstream       │\n",
       "│ …              ┆ …                      ┆ …                │\n",
       "│ 2370651        ┆ MIDAGE SINGLES/COUPLES ┆ Mainstream       │\n",
       "│ 2370701        ┆ YOUNG FAMILIES         ┆ Mainstream       │\n",
       "│ 2370751        ┆ YOUNG FAMILIES         ┆ Premium          │\n",
       "│ 2370961        ┆ OLDER FAMILIES         ┆ Budget           │\n",
       "│ 2373711        ┆ YOUNG SINGLES/COUPLES  ┆ Mainstream       │\n",
       "└────────────────┴────────────────────────┴──────────────────┘"
      ]
     },
     "execution_count": 4,
     "metadata": {},
     "output_type": "execute_result"
    }
   ],
   "source": [
    "customer"
   ]
  },
  {
   "cell_type": "code",
   "execution_count": 5,
   "id": "bed27e84-650c-43e2-8cf0-2e45f50d4405",
   "metadata": {},
   "outputs": [
    {
     "data": {
      "text/html": [
       "<div><style>\n",
       ".dataframe > thead > tr,\n",
       ".dataframe > tbody > tr {\n",
       "  text-align: right;\n",
       "  white-space: pre-wrap;\n",
       "}\n",
       "</style>\n",
       "<small>shape: (264_836, 8)</small><table border=\"1\" class=\"dataframe\"><thead><tr><th>DATE</th><th>STORE_NBR</th><th>LYLTY_CARD_NBR</th><th>TXN_ID</th><th>PROD_NBR</th><th>PROD_NAME</th><th>PROD_QTY</th><th>TOT_SALES</th></tr><tr><td>date</td><td>i64</td><td>i64</td><td>i64</td><td>i64</td><td>str</td><td>i64</td><td>f64</td></tr></thead><tbody><tr><td>2018-10-17</td><td>1</td><td>1000</td><td>1</td><td>5</td><td>&quot;Natural Chip&nbsp;&nbsp;&nbsp;&nbsp;&nbsp;&nbsp;&nbsp;&nbsp;Compny Sea…</td><td>2</td><td>6.0</td></tr><tr><td>2019-05-14</td><td>1</td><td>1307</td><td>348</td><td>66</td><td>&quot;CCs Nacho Cheese&nbsp;&nbsp;&nbsp;&nbsp;175g&quot;</td><td>3</td><td>6.3</td></tr><tr><td>2019-05-20</td><td>1</td><td>1343</td><td>383</td><td>61</td><td>&quot;Smiths Crinkle Cut&nbsp;&nbsp;Chips Chic…</td><td>2</td><td>2.9</td></tr><tr><td>2018-08-17</td><td>2</td><td>2373</td><td>974</td><td>69</td><td>&quot;Smiths Chip Thinly&nbsp;&nbsp;S/Cream&amp;On…</td><td>5</td><td>15.0</td></tr><tr><td>2018-08-18</td><td>2</td><td>2426</td><td>1038</td><td>108</td><td>&quot;Kettle Tortilla ChpsHny&amp;Jlpno …</td><td>3</td><td>13.8</td></tr><tr><td>&hellip;</td><td>&hellip;</td><td>&hellip;</td><td>&hellip;</td><td>&hellip;</td><td>&hellip;</td><td>&hellip;</td><td>&hellip;</td></tr><tr><td>2019-03-09</td><td>272</td><td>272319</td><td>270088</td><td>89</td><td>&quot;Kettle Sweet Chilli And Sour C…</td><td>2</td><td>10.8</td></tr><tr><td>2018-08-13</td><td>272</td><td>272358</td><td>270154</td><td>74</td><td>&quot;Tostitos Splash Of&nbsp;&nbsp;Lime 175g&quot;</td><td>1</td><td>4.4</td></tr><tr><td>2018-11-06</td><td>272</td><td>272379</td><td>270187</td><td>51</td><td>&quot;Doritos Mexicana&nbsp;&nbsp;&nbsp;&nbsp;170g&quot;</td><td>2</td><td>8.8</td></tr><tr><td>2018-12-27</td><td>272</td><td>272379</td><td>270188</td><td>42</td><td>&quot;Doritos Corn Chip Mexican Jala…</td><td>2</td><td>7.8</td></tr><tr><td>2018-09-22</td><td>272</td><td>272380</td><td>270189</td><td>74</td><td>&quot;Tostitos Splash Of&nbsp;&nbsp;Lime 175g&quot;</td><td>2</td><td>8.8</td></tr></tbody></table></div>"
      ],
      "text/plain": [
       "shape: (264_836, 8)\n",
       "┌────────────┬───────────┬────────────────┬────────┬──────────┬─────────────────────────────────┬──────────┬───────────┐\n",
       "│ DATE       ┆ STORE_NBR ┆ LYLTY_CARD_NBR ┆ TXN_ID ┆ PROD_NBR ┆ PROD_NAME                       ┆ PROD_QTY ┆ TOT_SALES │\n",
       "│ ---        ┆ ---       ┆ ---            ┆ ---    ┆ ---      ┆ ---                             ┆ ---      ┆ ---       │\n",
       "│ date       ┆ i64       ┆ i64            ┆ i64    ┆ i64      ┆ str                             ┆ i64      ┆ f64       │\n",
       "╞════════════╪═══════════╪════════════════╪════════╪══════════╪═════════════════════════════════╪══════════╪═══════════╡\n",
       "│ 2018-10-17 ┆ 1         ┆ 1000           ┆ 1      ┆ 5        ┆ Natural Chip        Compny Sea… ┆ 2        ┆ 6.0       │\n",
       "│ 2019-05-14 ┆ 1         ┆ 1307           ┆ 348    ┆ 66       ┆ CCs Nacho Cheese    175g        ┆ 3        ┆ 6.3       │\n",
       "│ 2019-05-20 ┆ 1         ┆ 1343           ┆ 383    ┆ 61       ┆ Smiths Crinkle Cut  Chips Chic… ┆ 2        ┆ 2.9       │\n",
       "│ 2018-08-17 ┆ 2         ┆ 2373           ┆ 974    ┆ 69       ┆ Smiths Chip Thinly  S/Cream&On… ┆ 5        ┆ 15.0      │\n",
       "│ 2018-08-18 ┆ 2         ┆ 2426           ┆ 1038   ┆ 108      ┆ Kettle Tortilla ChpsHny&Jlpno … ┆ 3        ┆ 13.8      │\n",
       "│ …          ┆ …         ┆ …              ┆ …      ┆ …        ┆ …                               ┆ …        ┆ …         │\n",
       "│ 2019-03-09 ┆ 272       ┆ 272319         ┆ 270088 ┆ 89       ┆ Kettle Sweet Chilli And Sour C… ┆ 2        ┆ 10.8      │\n",
       "│ 2018-08-13 ┆ 272       ┆ 272358         ┆ 270154 ┆ 74       ┆ Tostitos Splash Of  Lime 175g   ┆ 1        ┆ 4.4       │\n",
       "│ 2018-11-06 ┆ 272       ┆ 272379         ┆ 270187 ┆ 51       ┆ Doritos Mexicana    170g        ┆ 2        ┆ 8.8       │\n",
       "│ 2018-12-27 ┆ 272       ┆ 272379         ┆ 270188 ┆ 42       ┆ Doritos Corn Chip Mexican Jala… ┆ 2        ┆ 7.8       │\n",
       "│ 2018-09-22 ┆ 272       ┆ 272380         ┆ 270189 ┆ 74       ┆ Tostitos Splash Of  Lime 175g   ┆ 2        ┆ 8.8       │\n",
       "└────────────┴───────────┴────────────────┴────────┴──────────┴─────────────────────────────────┴──────────┴───────────┘"
      ]
     },
     "execution_count": 5,
     "metadata": {},
     "output_type": "execute_result"
    }
   ],
   "source": [
    "transaction"
   ]
  },
  {
   "cell_type": "code",
   "execution_count": null,
   "id": "cd506002-d561-45d3-959e-c7dd5497858c",
   "metadata": {},
   "outputs": [],
   "source": []
  },
  {
   "cell_type": "markdown",
   "id": "074225a4-1f55-4b4c-b974-c6d4118c2af3",
   "metadata": {},
   "source": [
    "### Data Processing"
   ]
  },
  {
   "cell_type": "code",
   "execution_count": 6,
   "id": "398f32fd-dcec-48f0-abde-653dff6f1352",
   "metadata": {},
   "outputs": [],
   "source": [
    "### Remove multiple spaces in PROD_NAME\n",
    "transaction = transaction.with_columns(\n",
    "    pl.col(\"PROD_NAME\").str.replace_all(r\"\\s+\", \" \")\n",
    ")"
   ]
  },
  {
   "cell_type": "code",
   "execution_count": 7,
   "id": "75e1e0da-7d8f-4e8e-952a-e60e7fbe8739",
   "metadata": {},
   "outputs": [],
   "source": [
    "# Remove products that are salsa and not chips\n",
    "# what does \\b mean in regex\n",
    "chip_keywords = r\"(?i)\\b(crinkle)\" # Since some chips are salsa flavoured we use the or operator to include them (see below)\n",
    "\n",
    "transaction = transaction.filter(\n",
    "    ~transaction[\"PROD_NAME\"].str.contains(r\"(?i)salsa\") |  # Exclude salsa products\n",
    "    transaction[\"PROD_NAME\"].str.contains(chip_keywords)  # Keep salsa-flavored chips\n",
    ")"
   ]
  },
  {
   "cell_type": "code",
   "execution_count": 8,
   "id": "3aec3380-94ba-4b33-8852-b620f0094b41",
   "metadata": {},
   "outputs": [],
   "source": [
    "# Get the product weight\n",
    "transaction = transaction.with_columns(\n",
    "    transaction[\"PROD_NAME\"]\n",
    "    .str.extract(r\"(?i)(\\d+)g\")  # Extract numeric value before 'g'\n",
    "    .cast(pl.Int64)  # Convert the extracted string to an integer\n",
    "    .alias(\"weight\")  # Rename the new column to \"weight\"\n",
    ")"
   ]
  },
  {
   "cell_type": "code",
   "execution_count": 9,
   "id": "59b492d2-2e49-4b41-86a6-a9003bf6e206",
   "metadata": {},
   "outputs": [
    {
     "data": {
      "text/html": [
       "<div><style>\n",
       ".dataframe > thead > tr,\n",
       ".dataframe > tbody > tr {\n",
       "  text-align: right;\n",
       "  white-space: pre-wrap;\n",
       "}\n",
       "</style>\n",
       "<small>shape: (0, 1)</small><table border=\"1\" class=\"dataframe\"><thead><tr><th>PROD_NAME</th></tr><tr><td>str</td></tr></thead><tbody></tbody></table></div>"
      ],
      "text/plain": [
       "shape: (0, 1)\n",
       "┌───────────┐\n",
       "│ PROD_NAME │\n",
       "│ ---       │\n",
       "│ str       │\n",
       "╞═══════════╡\n",
       "└───────────┘"
      ]
     },
     "execution_count": 9,
     "metadata": {},
     "output_type": "execute_result"
    }
   ],
   "source": [
    "# check for null value\n",
    "transaction.filter(pl.col(\"weight\").is_null()).select('PROD_NAME').unique()"
   ]
  },
  {
   "cell_type": "code",
   "execution_count": null,
   "id": "09b4918a-3e3d-43a8-96bf-849bbebb4f2c",
   "metadata": {},
   "outputs": [],
   "source": []
  },
  {
   "cell_type": "code",
   "execution_count": 10,
   "id": "97fec859-f53c-4b9f-89e5-16d14550c4fc",
   "metadata": {},
   "outputs": [
    {
     "data": {
      "text/html": [
       "<div><style>\n",
       ".dataframe > thead > tr,\n",
       ".dataframe > tbody > tr {\n",
       "  text-align: right;\n",
       "  white-space: pre-wrap;\n",
       "}\n",
       "</style>\n",
       "<small>shape: (248_212, 9)</small><table border=\"1\" class=\"dataframe\"><thead><tr><th>DATE</th><th>STORE_NBR</th><th>LYLTY_CARD_NBR</th><th>TXN_ID</th><th>PROD_NBR</th><th>PROD_NAME</th><th>PROD_QTY</th><th>TOT_SALES</th><th>weight</th></tr><tr><td>date</td><td>i64</td><td>i64</td><td>i64</td><td>i64</td><td>str</td><td>i64</td><td>f64</td><td>i64</td></tr></thead><tbody><tr><td>2018-10-17</td><td>1</td><td>1000</td><td>1</td><td>5</td><td>&quot;Natural Chip Compny SeaSalt175…</td><td>2</td><td>6.0</td><td>175</td></tr><tr><td>2019-05-14</td><td>1</td><td>1307</td><td>348</td><td>66</td><td>&quot;CCs Nacho Cheese 175g&quot;</td><td>3</td><td>6.3</td><td>175</td></tr><tr><td>2019-05-20</td><td>1</td><td>1343</td><td>383</td><td>61</td><td>&quot;Smiths Crinkle Cut Chips Chick…</td><td>2</td><td>2.9</td><td>170</td></tr><tr><td>2018-08-17</td><td>2</td><td>2373</td><td>974</td><td>69</td><td>&quot;Smiths Chip Thinly S/Cream&amp;Oni…</td><td>5</td><td>15.0</td><td>175</td></tr><tr><td>2018-08-18</td><td>2</td><td>2426</td><td>1038</td><td>108</td><td>&quot;Kettle Tortilla ChpsHny&amp;Jlpno …</td><td>3</td><td>13.8</td><td>150</td></tr><tr><td>&hellip;</td><td>&hellip;</td><td>&hellip;</td><td>&hellip;</td><td>&hellip;</td><td>&hellip;</td><td>&hellip;</td><td>&hellip;</td><td>&hellip;</td></tr><tr><td>2019-03-09</td><td>272</td><td>272319</td><td>270088</td><td>89</td><td>&quot;Kettle Sweet Chilli And Sour C…</td><td>2</td><td>10.8</td><td>175</td></tr><tr><td>2018-08-13</td><td>272</td><td>272358</td><td>270154</td><td>74</td><td>&quot;Tostitos Splash Of Lime 175g&quot;</td><td>1</td><td>4.4</td><td>175</td></tr><tr><td>2018-11-06</td><td>272</td><td>272379</td><td>270187</td><td>51</td><td>&quot;Doritos Mexicana 170g&quot;</td><td>2</td><td>8.8</td><td>170</td></tr><tr><td>2018-12-27</td><td>272</td><td>272379</td><td>270188</td><td>42</td><td>&quot;Doritos Corn Chip Mexican Jala…</td><td>2</td><td>7.8</td><td>150</td></tr><tr><td>2018-09-22</td><td>272</td><td>272380</td><td>270189</td><td>74</td><td>&quot;Tostitos Splash Of Lime 175g&quot;</td><td>2</td><td>8.8</td><td>175</td></tr></tbody></table></div>"
      ],
      "text/plain": [
       "shape: (248_212, 9)\n",
       "┌────────────┬───────────┬────────────────┬────────┬───┬─────────────────────────────────┬──────────┬───────────┬────────┐\n",
       "│ DATE       ┆ STORE_NBR ┆ LYLTY_CARD_NBR ┆ TXN_ID ┆ … ┆ PROD_NAME                       ┆ PROD_QTY ┆ TOT_SALES ┆ weight │\n",
       "│ ---        ┆ ---       ┆ ---            ┆ ---    ┆   ┆ ---                             ┆ ---      ┆ ---       ┆ ---    │\n",
       "│ date       ┆ i64       ┆ i64            ┆ i64    ┆   ┆ str                             ┆ i64      ┆ f64       ┆ i64    │\n",
       "╞════════════╪═══════════╪════════════════╪════════╪═══╪═════════════════════════════════╪══════════╪═══════════╪════════╡\n",
       "│ 2018-10-17 ┆ 1         ┆ 1000           ┆ 1      ┆ … ┆ Natural Chip Compny SeaSalt175… ┆ 2        ┆ 6.0       ┆ 175    │\n",
       "│ 2019-05-14 ┆ 1         ┆ 1307           ┆ 348    ┆ … ┆ CCs Nacho Cheese 175g           ┆ 3        ┆ 6.3       ┆ 175    │\n",
       "│ 2019-05-20 ┆ 1         ┆ 1343           ┆ 383    ┆ … ┆ Smiths Crinkle Cut Chips Chick… ┆ 2        ┆ 2.9       ┆ 170    │\n",
       "│ 2018-08-17 ┆ 2         ┆ 2373           ┆ 974    ┆ … ┆ Smiths Chip Thinly S/Cream&Oni… ┆ 5        ┆ 15.0      ┆ 175    │\n",
       "│ 2018-08-18 ┆ 2         ┆ 2426           ┆ 1038   ┆ … ┆ Kettle Tortilla ChpsHny&Jlpno … ┆ 3        ┆ 13.8      ┆ 150    │\n",
       "│ …          ┆ …         ┆ …              ┆ …      ┆ … ┆ …                               ┆ …        ┆ …         ┆ …      │\n",
       "│ 2019-03-09 ┆ 272       ┆ 272319         ┆ 270088 ┆ … ┆ Kettle Sweet Chilli And Sour C… ┆ 2        ┆ 10.8      ┆ 175    │\n",
       "│ 2018-08-13 ┆ 272       ┆ 272358         ┆ 270154 ┆ … ┆ Tostitos Splash Of Lime 175g    ┆ 1        ┆ 4.4       ┆ 175    │\n",
       "│ 2018-11-06 ┆ 272       ┆ 272379         ┆ 270187 ┆ … ┆ Doritos Mexicana 170g           ┆ 2        ┆ 8.8       ┆ 170    │\n",
       "│ 2018-12-27 ┆ 272       ┆ 272379         ┆ 270188 ┆ … ┆ Doritos Corn Chip Mexican Jala… ┆ 2        ┆ 7.8       ┆ 150    │\n",
       "│ 2018-09-22 ┆ 272       ┆ 272380         ┆ 270189 ┆ … ┆ Tostitos Splash Of Lime 175g    ┆ 2        ┆ 8.8       ┆ 175    │\n",
       "└────────────┴───────────┴────────────────┴────────┴───┴─────────────────────────────────┴──────────┴───────────┴────────┘"
      ]
     },
     "execution_count": 10,
     "metadata": {},
     "output_type": "execute_result"
    }
   ],
   "source": [
    "transaction"
   ]
  },
  {
   "cell_type": "code",
   "execution_count": null,
   "id": "9e65de23-ad67-4ed8-b08f-86cec71ad0b7",
   "metadata": {},
   "outputs": [],
   "source": []
  },
  {
   "cell_type": "code",
   "execution_count": null,
   "id": "6e2b4024-8d05-4c74-bce9-00b76eb747ab",
   "metadata": {},
   "outputs": [],
   "source": [
    "### Get brand name from PROD_NAME"
   ]
  },
  {
   "cell_type": "code",
   "execution_count": 11,
   "id": "a2a79354-9d11-45f5-9b11-b2ed9567e47b",
   "metadata": {},
   "outputs": [],
   "source": [
    "# We will start by getting unique Product names\n",
    "unique_products = transaction.select('PROD_NAME').unique()\n",
    "unique_products.write_csv('unique_products.csv')"
   ]
  },
  {
   "cell_type": "code",
   "execution_count": 12,
   "id": "d08edc34-be2b-4612-b975-3caaedeb82a3",
   "metadata": {},
   "outputs": [],
   "source": [
    "# I have edited unique_product.csv to include the brand name\n",
    "# In addition, I have changed the file name to output.csv"
   ]
  },
  {
   "cell_type": "code",
   "execution_count": 11,
   "id": "b65cbdbb-d6ee-4dc3-b6ff-e5e402cfb355",
   "metadata": {},
   "outputs": [],
   "source": [
    "unique_products = pl.read_csv(\"output.csv\", encoding='utf8-lossy')"
   ]
  },
  {
   "cell_type": "code",
   "execution_count": 12,
   "id": "65954d98-36f1-4d5c-af01-bb21c8c67f7a",
   "metadata": {},
   "outputs": [],
   "source": [
    "transaction = transaction.join(unique_products, left_on='PROD_NAME', right_on='PROD_NAME', how='inner')"
   ]
  },
  {
   "cell_type": "code",
   "execution_count": 13,
   "id": "9e4ad8db-8720-4934-bbd8-94e5be754845",
   "metadata": {},
   "outputs": [
    {
     "data": {
      "text/html": [
       "<div><style>\n",
       ".dataframe > thead > tr,\n",
       ".dataframe > tbody > tr {\n",
       "  text-align: right;\n",
       "  white-space: pre-wrap;\n",
       "}\n",
       "</style>\n",
       "<small>shape: (248_212, 10)</small><table border=\"1\" class=\"dataframe\"><thead><tr><th>DATE</th><th>STORE_NBR</th><th>LYLTY_CARD_NBR</th><th>TXN_ID</th><th>PROD_NBR</th><th>PROD_NAME</th><th>PROD_QTY</th><th>TOT_SALES</th><th>weight</th><th>mapping</th></tr><tr><td>date</td><td>i64</td><td>i64</td><td>i64</td><td>i64</td><td>str</td><td>i64</td><td>f64</td><td>i64</td><td>str</td></tr></thead><tbody><tr><td>2018-10-17</td><td>1</td><td>1000</td><td>1</td><td>5</td><td>&quot;Natural Chip Compny SeaSalt175…</td><td>2</td><td>6.0</td><td>175</td><td>&quot;Natural Chip Company&quot;</td></tr><tr><td>2019-05-14</td><td>1</td><td>1307</td><td>348</td><td>66</td><td>&quot;CCs Nacho Cheese 175g&quot;</td><td>3</td><td>6.3</td><td>175</td><td>&quot;Ccs&quot;</td></tr><tr><td>2019-05-20</td><td>1</td><td>1343</td><td>383</td><td>61</td><td>&quot;Smiths Crinkle Cut Chips Chick…</td><td>2</td><td>2.9</td><td>170</td><td>&quot;Smiths&quot;</td></tr><tr><td>2018-08-17</td><td>2</td><td>2373</td><td>974</td><td>69</td><td>&quot;Smiths Chip Thinly S/Cream&amp;Oni…</td><td>5</td><td>15.0</td><td>175</td><td>&quot;Smiths&quot;</td></tr><tr><td>2018-08-18</td><td>2</td><td>2426</td><td>1038</td><td>108</td><td>&quot;Kettle Tortilla ChpsHny&amp;Jlpno …</td><td>3</td><td>13.8</td><td>150</td><td>&quot;Kettle&quot;</td></tr><tr><td>&hellip;</td><td>&hellip;</td><td>&hellip;</td><td>&hellip;</td><td>&hellip;</td><td>&hellip;</td><td>&hellip;</td><td>&hellip;</td><td>&hellip;</td><td>&hellip;</td></tr><tr><td>2019-03-09</td><td>272</td><td>272319</td><td>270088</td><td>89</td><td>&quot;Kettle Sweet Chilli And Sour C…</td><td>2</td><td>10.8</td><td>175</td><td>&quot;Kettle&quot;</td></tr><tr><td>2018-08-13</td><td>272</td><td>272358</td><td>270154</td><td>74</td><td>&quot;Tostitos Splash Of Lime 175g&quot;</td><td>1</td><td>4.4</td><td>175</td><td>&quot;Tostitos&quot;</td></tr><tr><td>2018-11-06</td><td>272</td><td>272379</td><td>270187</td><td>51</td><td>&quot;Doritos Mexicana 170g&quot;</td><td>2</td><td>8.8</td><td>170</td><td>&quot;Doritos&quot;</td></tr><tr><td>2018-12-27</td><td>272</td><td>272379</td><td>270188</td><td>42</td><td>&quot;Doritos Corn Chip Mexican Jala…</td><td>2</td><td>7.8</td><td>150</td><td>&quot;Doritos&quot;</td></tr><tr><td>2018-09-22</td><td>272</td><td>272380</td><td>270189</td><td>74</td><td>&quot;Tostitos Splash Of Lime 175g&quot;</td><td>2</td><td>8.8</td><td>175</td><td>&quot;Tostitos&quot;</td></tr></tbody></table></div>"
      ],
      "text/plain": [
       "shape: (248_212, 10)\n",
       "┌────────────┬───────────┬────────────────┬────────┬───┬──────────┬───────────┬────────┬──────────────────────┐\n",
       "│ DATE       ┆ STORE_NBR ┆ LYLTY_CARD_NBR ┆ TXN_ID ┆ … ┆ PROD_QTY ┆ TOT_SALES ┆ weight ┆ mapping              │\n",
       "│ ---        ┆ ---       ┆ ---            ┆ ---    ┆   ┆ ---      ┆ ---       ┆ ---    ┆ ---                  │\n",
       "│ date       ┆ i64       ┆ i64            ┆ i64    ┆   ┆ i64      ┆ f64       ┆ i64    ┆ str                  │\n",
       "╞════════════╪═══════════╪════════════════╪════════╪═══╪══════════╪═══════════╪════════╪══════════════════════╡\n",
       "│ 2018-10-17 ┆ 1         ┆ 1000           ┆ 1      ┆ … ┆ 2        ┆ 6.0       ┆ 175    ┆ Natural Chip Company │\n",
       "│ 2019-05-14 ┆ 1         ┆ 1307           ┆ 348    ┆ … ┆ 3        ┆ 6.3       ┆ 175    ┆ Ccs                  │\n",
       "│ 2019-05-20 ┆ 1         ┆ 1343           ┆ 383    ┆ … ┆ 2        ┆ 2.9       ┆ 170    ┆ Smiths               │\n",
       "│ 2018-08-17 ┆ 2         ┆ 2373           ┆ 974    ┆ … ┆ 5        ┆ 15.0      ┆ 175    ┆ Smiths               │\n",
       "│ 2018-08-18 ┆ 2         ┆ 2426           ┆ 1038   ┆ … ┆ 3        ┆ 13.8      ┆ 150    ┆ Kettle               │\n",
       "│ …          ┆ …         ┆ …              ┆ …      ┆ … ┆ …        ┆ …         ┆ …      ┆ …                    │\n",
       "│ 2019-03-09 ┆ 272       ┆ 272319         ┆ 270088 ┆ … ┆ 2        ┆ 10.8      ┆ 175    ┆ Kettle               │\n",
       "│ 2018-08-13 ┆ 272       ┆ 272358         ┆ 270154 ┆ … ┆ 1        ┆ 4.4       ┆ 175    ┆ Tostitos             │\n",
       "│ 2018-11-06 ┆ 272       ┆ 272379         ┆ 270187 ┆ … ┆ 2        ┆ 8.8       ┆ 170    ┆ Doritos              │\n",
       "│ 2018-12-27 ┆ 272       ┆ 272379         ┆ 270188 ┆ … ┆ 2        ┆ 7.8       ┆ 150    ┆ Doritos              │\n",
       "│ 2018-09-22 ┆ 272       ┆ 272380         ┆ 270189 ┆ … ┆ 2        ┆ 8.8       ┆ 175    ┆ Tostitos             │\n",
       "└────────────┴───────────┴────────────────┴────────┴───┴──────────┴───────────┴────────┴──────────────────────┘"
      ]
     },
     "execution_count": 13,
     "metadata": {},
     "output_type": "execute_result"
    }
   ],
   "source": [
    "transaction"
   ]
  },
  {
   "cell_type": "code",
   "execution_count": 14,
   "id": "f0e553b6-51b8-49db-b4fd-57d06792f087",
   "metadata": {},
   "outputs": [
    {
     "name": "stdout",
     "output_type": "stream",
     "text": [
      "French Fries\n",
      "Burger Rings\n",
      "Natural Chip Company\n",
      "Doritos\n",
      "WW\n",
      "Twisties\n",
      "Kettle\n",
      "Cheetos\n",
      "Sunbites\n",
      "Smiths\n",
      "Ccs\n",
      "Smith\n",
      "Infuzions\n",
      "Cheezels\n",
      "Cobs\n",
      "Tostitos\n",
      "RRD\n",
      "Thins\n",
      "Pringles\n",
      "Tyrrells\n"
     ]
    }
   ],
   "source": [
    "# There are twenty unique brands. The names are listed below.\n",
    "print(*transaction['mapping'].unique().to_list(), sep='\\n')"
   ]
  },
  {
   "cell_type": "code",
   "execution_count": null,
   "id": "ba772376-893d-4000-b498-62e5ad118211",
   "metadata": {},
   "outputs": [],
   "source": []
  },
  {
   "cell_type": "code",
   "execution_count": 15,
   "id": "fa905471-c3c5-4490-a059-a90398bf1ffd",
   "metadata": {},
   "outputs": [
    {
     "data": {
      "text/html": [
       "<div><style>\n",
       ".dataframe > thead > tr,\n",
       ".dataframe > tbody > tr {\n",
       "  text-align: right;\n",
       "  white-space: pre-wrap;\n",
       "}\n",
       "</style>\n",
       "<small>shape: (0, 1)</small><table border=\"1\" class=\"dataframe\"><thead><tr><th>PROD_NAME</th></tr><tr><td>str</td></tr></thead><tbody></tbody></table></div>"
      ],
      "text/plain": [
       "shape: (0, 1)\n",
       "┌───────────┐\n",
       "│ PROD_NAME │\n",
       "│ ---       │\n",
       "│ str       │\n",
       "╞═══════════╡\n",
       "└───────────┘"
      ]
     },
     "execution_count": 15,
     "metadata": {},
     "output_type": "execute_result"
    }
   ],
   "source": [
    "# All the products have brand names\n",
    "transaction.filter(pl.col(\"mapping\").is_null()).select('PROD_NAME')"
   ]
  },
  {
   "cell_type": "code",
   "execution_count": null,
   "id": "ca9aee8f-d1c4-49d9-a1fc-71d9a5eca73b",
   "metadata": {},
   "outputs": [],
   "source": []
  },
  {
   "cell_type": "markdown",
   "id": "67eed4dc-6b56-4d84-bda7-6f332d9d453e",
   "metadata": {},
   "source": [
    "#### Remove Outlier"
   ]
  },
  {
   "cell_type": "code",
   "execution_count": 16,
   "id": "eb72ddeb-05fe-47ec-a42f-690e67ca5f8c",
   "metadata": {},
   "outputs": [
    {
     "data": {
      "text/html": [
       "<div><style>\n",
       ".dataframe > thead > tr,\n",
       ".dataframe > tbody > tr {\n",
       "  text-align: right;\n",
       "  white-space: pre-wrap;\n",
       "}\n",
       "</style>\n",
       "<small>shape: (9, 11)</small><table border=\"1\" class=\"dataframe\"><thead><tr><th>statistic</th><th>DATE</th><th>STORE_NBR</th><th>LYLTY_CARD_NBR</th><th>TXN_ID</th><th>PROD_NBR</th><th>PROD_NAME</th><th>PROD_QTY</th><th>TOT_SALES</th><th>weight</th><th>mapping</th></tr><tr><td>str</td><td>str</td><td>f64</td><td>f64</td><td>f64</td><td>f64</td><td>str</td><td>f64</td><td>f64</td><td>f64</td><td>str</td></tr></thead><tbody><tr><td>&quot;count&quot;</td><td>&quot;248212&quot;</td><td>248212.0</td><td>248212.0</td><td>248212.0</td><td>248212.0</td><td>&quot;248212&quot;</td><td>248212.0</td><td>248212.0</td><td>248212.0</td><td>&quot;248212&quot;</td></tr><tr><td>&quot;null_count&quot;</td><td>&quot;0&quot;</td><td>0.0</td><td>0.0</td><td>0.0</td><td>0.0</td><td>&quot;0&quot;</td><td>0.0</td><td>0.0</td><td>0.0</td><td>&quot;0&quot;</td></tr><tr><td>&quot;mean&quot;</td><td>&quot;2018-12-30 01:30:20.102000&quot;</td><td>135.038455</td><td>135516.373113</td><td>135117.781848</td><td>56.249025</td><td>null</td><td>1.907869</td><td>7.306842</td><td>175.433653</td><td>null</td></tr><tr><td>&quot;std&quot;</td><td>null</td><td>76.777578</td><td>80683.550528</td><td>78136.771877</td><td>33.621872</td><td>null</td><td>0.658467</td><td>3.075281</td><td>59.290976</td><td>null</td></tr><tr><td>&quot;min&quot;</td><td>&quot;2018-07-01&quot;</td><td>1.0</td><td>1000.0</td><td>1.0</td><td>1.0</td><td>&quot;Burger Rings 220g&quot;</td><td>1.0</td><td>1.7</td><td>70.0</td><td>&quot;Burger Rings&quot;</td></tr><tr><td>&quot;25%&quot;</td><td>&quot;2018-09-30&quot;</td><td>70.0</td><td>70014.0</td><td>67558.0</td><td>27.0</td><td>null</td><td>2.0</td><td>5.8</td><td>150.0</td><td>null</td></tr><tr><td>&quot;50%&quot;</td><td>&quot;2018-12-30&quot;</td><td>130.0</td><td>130360.0</td><td>135148.0</td><td>52.0</td><td>null</td><td>2.0</td><td>7.4</td><td>170.0</td><td>null</td></tr><tr><td>&quot;75%&quot;</td><td>&quot;2019-03-31&quot;</td><td>203.0</td><td>203078.0</td><td>202628.0</td><td>87.0</td><td>null</td><td>2.0</td><td>8.8</td><td>175.0</td><td>null</td></tr><tr><td>&quot;max&quot;</td><td>&quot;2019-06-30&quot;</td><td>272.0</td><td>2.373711e6</td><td>2.415841e6</td><td>114.0</td><td>&quot;Woolworths Cheese Rings 190g&quot;</td><td>200.0</td><td>650.0</td><td>380.0</td><td>&quot;WW&quot;</td></tr></tbody></table></div>"
      ],
      "text/plain": [
       "shape: (9, 11)\n",
       "┌────────────┬────────────────────────────┬────────────┬────────────────┬───┬──────────┬───────────┬────────────┬──────────────┐\n",
       "│ statistic  ┆ DATE                       ┆ STORE_NBR  ┆ LYLTY_CARD_NBR ┆ … ┆ PROD_QTY ┆ TOT_SALES ┆ weight     ┆ mapping      │\n",
       "│ ---        ┆ ---                        ┆ ---        ┆ ---            ┆   ┆ ---      ┆ ---       ┆ ---        ┆ ---          │\n",
       "│ str        ┆ str                        ┆ f64        ┆ f64            ┆   ┆ f64      ┆ f64       ┆ f64        ┆ str          │\n",
       "╞════════════╪════════════════════════════╪════════════╪════════════════╪═══╪══════════╪═══════════╪════════════╪══════════════╡\n",
       "│ count      ┆ 248212                     ┆ 248212.0   ┆ 248212.0       ┆ … ┆ 248212.0 ┆ 248212.0  ┆ 248212.0   ┆ 248212       │\n",
       "│ null_count ┆ 0                          ┆ 0.0        ┆ 0.0            ┆ … ┆ 0.0      ┆ 0.0       ┆ 0.0        ┆ 0            │\n",
       "│ mean       ┆ 2018-12-30 01:30:20.102000 ┆ 135.038455 ┆ 135516.373113  ┆ … ┆ 1.907869 ┆ 7.306842  ┆ 175.433653 ┆ null         │\n",
       "│ std        ┆ null                       ┆ 76.777578  ┆ 80683.550528   ┆ … ┆ 0.658467 ┆ 3.075281  ┆ 59.290976  ┆ null         │\n",
       "│ min        ┆ 2018-07-01                 ┆ 1.0        ┆ 1000.0         ┆ … ┆ 1.0      ┆ 1.7       ┆ 70.0       ┆ Burger Rings │\n",
       "│ 25%        ┆ 2018-09-30                 ┆ 70.0       ┆ 70014.0        ┆ … ┆ 2.0      ┆ 5.8       ┆ 150.0      ┆ null         │\n",
       "│ 50%        ┆ 2018-12-30                 ┆ 130.0      ┆ 130360.0       ┆ … ┆ 2.0      ┆ 7.4       ┆ 170.0      ┆ null         │\n",
       "│ 75%        ┆ 2019-03-31                 ┆ 203.0      ┆ 203078.0       ┆ … ┆ 2.0      ┆ 8.8       ┆ 175.0      ┆ null         │\n",
       "│ max        ┆ 2019-06-30                 ┆ 272.0      ┆ 2.373711e6     ┆ … ┆ 200.0    ┆ 650.0     ┆ 380.0      ┆ WW           │\n",
       "└────────────┴────────────────────────────┴────────────┴────────────────┴───┴──────────┴───────────┴────────────┴──────────────┘"
      ]
     },
     "execution_count": 16,
     "metadata": {},
     "output_type": "execute_result"
    }
   ],
   "source": [
    "# notice max product quantity is 200 which is an outlier. This is likely a business transaction and not a ustomer transaction.\n",
    "transaction.describe()"
   ]
  },
  {
   "cell_type": "code",
   "execution_count": 17,
   "id": "feb76d05-61c9-487e-be67-f37f38ab029b",
   "metadata": {},
   "outputs": [],
   "source": [
    "transaction = transaction.filter(~(transaction[\"PROD_QTY\"] == 200))"
   ]
  },
  {
   "cell_type": "code",
   "execution_count": 18,
   "id": "60a61299-8b85-4a56-9241-bd643b9fd5b7",
   "metadata": {},
   "outputs": [
    {
     "data": {
      "text/html": [
       "<div><style>\n",
       ".dataframe > thead > tr,\n",
       ".dataframe > tbody > tr {\n",
       "  text-align: right;\n",
       "  white-space: pre-wrap;\n",
       "}\n",
       "</style>\n",
       "<small>shape: (5, 2)</small><table border=\"1\" class=\"dataframe\"><thead><tr><th>PROD_QTY</th><th>len</th></tr><tr><td>i64</td><td>u32</td></tr></thead><tbody><tr><td>3</td><td>412</td></tr><tr><td>2</td><td>221339</td></tr><tr><td>1</td><td>25670</td></tr><tr><td>4</td><td>373</td></tr><tr><td>5</td><td>416</td></tr></tbody></table></div>"
      ],
      "text/plain": [
       "shape: (5, 2)\n",
       "┌──────────┬────────┐\n",
       "│ PROD_QTY ┆ len    │\n",
       "│ ---      ┆ ---    │\n",
       "│ i64      ┆ u32    │\n",
       "╞══════════╪════════╡\n",
       "│ 3        ┆ 412    │\n",
       "│ 2        ┆ 221339 │\n",
       "│ 1        ┆ 25670  │\n",
       "│ 4        ┆ 373    │\n",
       "│ 5        ┆ 416    │\n",
       "└──────────┴────────┘"
      ]
     },
     "execution_count": 18,
     "metadata": {},
     "output_type": "execute_result"
    }
   ],
   "source": [
    "# As we can see there are no more outliers\n",
    "# Furthermore we can see the most common product quantity is 2 and second most common product quantity is 1\n",
    "# Since the number of people buying 3 or more products is negigble this suggests that discounts should not involve 3 or more products\n",
    "transaction.group_by('PROD_QTY').len()"
   ]
  },
  {
   "cell_type": "code",
   "execution_count": 19,
   "id": "af75b6cf-5737-47bd-a050-35f1423f1725",
   "metadata": {},
   "outputs": [
    {
     "data": {
      "text/plain": [
       "8.622477600311647"
      ]
     },
     "execution_count": 19,
     "metadata": {},
     "output_type": "execute_result"
    }
   ],
   "source": [
    "# There are 8.62 times more people choosing buys products where product quantity is 2 over product 1\n",
    "221339/25670"
   ]
  },
  {
   "cell_type": "code",
   "execution_count": null,
   "id": "efb78010-1260-4f73-8ce0-30f5d05ea1a2",
   "metadata": {},
   "outputs": [],
   "source": []
  },
  {
   "cell_type": "markdown",
   "id": "a0ae67be-1322-4f4f-8db6-54c5ff60a4e7",
   "metadata": {},
   "source": [
    "#### Check for missing date"
   ]
  },
  {
   "cell_type": "code",
   "execution_count": 20,
   "id": "1483fda2-8ec1-4111-a50f-2d347ec49af0",
   "metadata": {},
   "outputs": [],
   "source": [
    "# Create a complete date range\n",
    "date_range = pd.date_range(start=transaction['DATE'].min(), end=transaction['DATE'].max()).to_series()\n",
    "\n",
    "# Convert date_range to polars DataFrame\n",
    "date_range_df = pl.DataFrame({'DATE': date_range}).cast(pl.Date)\n",
    "\n",
    "# Find missing dates\n",
    "missing_dates = date_range_df.join(transaction, on='DATE', how='anti')"
   ]
  },
  {
   "cell_type": "code",
   "execution_count": 21,
   "id": "eac89e7f-7e0a-4677-ad4c-0df653f9efb9",
   "metadata": {},
   "outputs": [
    {
     "data": {
      "text/html": [
       "<div><style>\n",
       ".dataframe > thead > tr,\n",
       ".dataframe > tbody > tr {\n",
       "  text-align: right;\n",
       "  white-space: pre-wrap;\n",
       "}\n",
       "</style>\n",
       "<small>shape: (1, 1)</small><table border=\"1\" class=\"dataframe\"><thead><tr><th>DATE</th></tr><tr><td>date</td></tr></thead><tbody><tr><td>2018-12-25</td></tr></tbody></table></div>"
      ],
      "text/plain": [
       "shape: (1, 1)\n",
       "┌────────────┐\n",
       "│ DATE       │\n",
       "│ ---        │\n",
       "│ date       │\n",
       "╞════════════╡\n",
       "│ 2018-12-25 │\n",
       "└────────────┘"
      ]
     },
     "execution_count": 21,
     "metadata": {},
     "output_type": "execute_result"
    }
   ],
   "source": [
    "# unsuprisingly the date Christmas does not appear to have any sales\n",
    "missing_dates"
   ]
  },
  {
   "cell_type": "code",
   "execution_count": null,
   "id": "9baffe7d-0dc1-4d6e-bfe6-5d4ddbcb5708",
   "metadata": {},
   "outputs": [],
   "source": []
  },
  {
   "cell_type": "markdown",
   "id": "98040b59-7737-4e67-a5f8-3865ee343e8f",
   "metadata": {},
   "source": [
    "#### Merge transaction with customers"
   ]
  },
  {
   "cell_type": "code",
   "execution_count": 24,
   "id": "0ae853ca-5078-417c-bb5c-dd09e684d870",
   "metadata": {},
   "outputs": [],
   "source": [
    "transaction = transaction.join(customer, on='LYLTY_CARD_NBR', how='left')"
   ]
  },
  {
   "cell_type": "code",
   "execution_count": 25,
   "id": "e178d79b-63ca-4493-8add-ce296b1934be",
   "metadata": {},
   "outputs": [
    {
     "data": {
      "text/html": [
       "<div><style>\n",
       ".dataframe > thead > tr,\n",
       ".dataframe > tbody > tr {\n",
       "  text-align: right;\n",
       "  white-space: pre-wrap;\n",
       "}\n",
       "</style>\n",
       "<small>shape: (248_210, 12)</small><table border=\"1\" class=\"dataframe\"><thead><tr><th>DATE</th><th>STORE_NBR</th><th>LYLTY_CARD_NBR</th><th>TXN_ID</th><th>PROD_NBR</th><th>PROD_NAME</th><th>PROD_QTY</th><th>TOT_SALES</th><th>weight</th><th>mapping</th><th>LIFESTAGE</th><th>PREMIUM_CUSTOMER</th></tr><tr><td>date</td><td>i64</td><td>i64</td><td>i64</td><td>i64</td><td>str</td><td>i64</td><td>f64</td><td>i64</td><td>str</td><td>str</td><td>str</td></tr></thead><tbody><tr><td>2018-10-17</td><td>1</td><td>1000</td><td>1</td><td>5</td><td>&quot;Natural Chip Compny SeaSalt175…</td><td>2</td><td>6.0</td><td>175</td><td>&quot;Natural Chip Company&quot;</td><td>&quot;YOUNG SINGLES/COUPLES&quot;</td><td>&quot;Premium&quot;</td></tr><tr><td>2019-05-14</td><td>1</td><td>1307</td><td>348</td><td>66</td><td>&quot;CCs Nacho Cheese 175g&quot;</td><td>3</td><td>6.3</td><td>175</td><td>&quot;Ccs&quot;</td><td>&quot;MIDAGE SINGLES/COUPLES&quot;</td><td>&quot;Budget&quot;</td></tr><tr><td>2019-05-20</td><td>1</td><td>1343</td><td>383</td><td>61</td><td>&quot;Smiths Crinkle Cut Chips Chick…</td><td>2</td><td>2.9</td><td>170</td><td>&quot;Smiths&quot;</td><td>&quot;MIDAGE SINGLES/COUPLES&quot;</td><td>&quot;Budget&quot;</td></tr><tr><td>2018-08-17</td><td>2</td><td>2373</td><td>974</td><td>69</td><td>&quot;Smiths Chip Thinly S/Cream&amp;Oni…</td><td>5</td><td>15.0</td><td>175</td><td>&quot;Smiths&quot;</td><td>&quot;MIDAGE SINGLES/COUPLES&quot;</td><td>&quot;Budget&quot;</td></tr><tr><td>2018-08-18</td><td>2</td><td>2426</td><td>1038</td><td>108</td><td>&quot;Kettle Tortilla ChpsHny&amp;Jlpno …</td><td>3</td><td>13.8</td><td>150</td><td>&quot;Kettle&quot;</td><td>&quot;MIDAGE SINGLES/COUPLES&quot;</td><td>&quot;Budget&quot;</td></tr><tr><td>&hellip;</td><td>&hellip;</td><td>&hellip;</td><td>&hellip;</td><td>&hellip;</td><td>&hellip;</td><td>&hellip;</td><td>&hellip;</td><td>&hellip;</td><td>&hellip;</td><td>&hellip;</td><td>&hellip;</td></tr><tr><td>2019-03-09</td><td>272</td><td>272319</td><td>270088</td><td>89</td><td>&quot;Kettle Sweet Chilli And Sour C…</td><td>2</td><td>10.8</td><td>175</td><td>&quot;Kettle&quot;</td><td>&quot;YOUNG SINGLES/COUPLES&quot;</td><td>&quot;Premium&quot;</td></tr><tr><td>2018-08-13</td><td>272</td><td>272358</td><td>270154</td><td>74</td><td>&quot;Tostitos Splash Of Lime 175g&quot;</td><td>1</td><td>4.4</td><td>175</td><td>&quot;Tostitos&quot;</td><td>&quot;YOUNG SINGLES/COUPLES&quot;</td><td>&quot;Premium&quot;</td></tr><tr><td>2018-11-06</td><td>272</td><td>272379</td><td>270187</td><td>51</td><td>&quot;Doritos Mexicana 170g&quot;</td><td>2</td><td>8.8</td><td>170</td><td>&quot;Doritos&quot;</td><td>&quot;YOUNG SINGLES/COUPLES&quot;</td><td>&quot;Premium&quot;</td></tr><tr><td>2018-12-27</td><td>272</td><td>272379</td><td>270188</td><td>42</td><td>&quot;Doritos Corn Chip Mexican Jala…</td><td>2</td><td>7.8</td><td>150</td><td>&quot;Doritos&quot;</td><td>&quot;YOUNG SINGLES/COUPLES&quot;</td><td>&quot;Premium&quot;</td></tr><tr><td>2018-09-22</td><td>272</td><td>272380</td><td>270189</td><td>74</td><td>&quot;Tostitos Splash Of Lime 175g&quot;</td><td>2</td><td>8.8</td><td>175</td><td>&quot;Tostitos&quot;</td><td>&quot;YOUNG SINGLES/COUPLES&quot;</td><td>&quot;Premium&quot;</td></tr></tbody></table></div>"
      ],
      "text/plain": [
       "shape: (248_210, 12)\n",
       "┌────────────┬───────────┬────────────────┬────────┬───┬────────┬──────────────────────┬────────────────────────┬──────────────────┐\n",
       "│ DATE       ┆ STORE_NBR ┆ LYLTY_CARD_NBR ┆ TXN_ID ┆ … ┆ weight ┆ mapping              ┆ LIFESTAGE              ┆ PREMIUM_CUSTOMER │\n",
       "│ ---        ┆ ---       ┆ ---            ┆ ---    ┆   ┆ ---    ┆ ---                  ┆ ---                    ┆ ---              │\n",
       "│ date       ┆ i64       ┆ i64            ┆ i64    ┆   ┆ i64    ┆ str                  ┆ str                    ┆ str              │\n",
       "╞════════════╪═══════════╪════════════════╪════════╪═══╪════════╪══════════════════════╪════════════════════════╪══════════════════╡\n",
       "│ 2018-10-17 ┆ 1         ┆ 1000           ┆ 1      ┆ … ┆ 175    ┆ Natural Chip Company ┆ YOUNG SINGLES/COUPLES  ┆ Premium          │\n",
       "│ 2019-05-14 ┆ 1         ┆ 1307           ┆ 348    ┆ … ┆ 175    ┆ Ccs                  ┆ MIDAGE SINGLES/COUPLES ┆ Budget           │\n",
       "│ 2019-05-20 ┆ 1         ┆ 1343           ┆ 383    ┆ … ┆ 170    ┆ Smiths               ┆ MIDAGE SINGLES/COUPLES ┆ Budget           │\n",
       "│ 2018-08-17 ┆ 2         ┆ 2373           ┆ 974    ┆ … ┆ 175    ┆ Smiths               ┆ MIDAGE SINGLES/COUPLES ┆ Budget           │\n",
       "│ 2018-08-18 ┆ 2         ┆ 2426           ┆ 1038   ┆ … ┆ 150    ┆ Kettle               ┆ MIDAGE SINGLES/COUPLES ┆ Budget           │\n",
       "│ …          ┆ …         ┆ …              ┆ …      ┆ … ┆ …      ┆ …                    ┆ …                      ┆ …                │\n",
       "│ 2019-03-09 ┆ 272       ┆ 272319         ┆ 270088 ┆ … ┆ 175    ┆ Kettle               ┆ YOUNG SINGLES/COUPLES  ┆ Premium          │\n",
       "│ 2018-08-13 ┆ 272       ┆ 272358         ┆ 270154 ┆ … ┆ 175    ┆ Tostitos             ┆ YOUNG SINGLES/COUPLES  ┆ Premium          │\n",
       "│ 2018-11-06 ┆ 272       ┆ 272379         ┆ 270187 ┆ … ┆ 170    ┆ Doritos              ┆ YOUNG SINGLES/COUPLES  ┆ Premium          │\n",
       "│ 2018-12-27 ┆ 272       ┆ 272379         ┆ 270188 ┆ … ┆ 150    ┆ Doritos              ┆ YOUNG SINGLES/COUPLES  ┆ Premium          │\n",
       "│ 2018-09-22 ┆ 272       ┆ 272380         ┆ 270189 ┆ … ┆ 175    ┆ Tostitos             ┆ YOUNG SINGLES/COUPLES  ┆ Premium          │\n",
       "└────────────┴───────────┴────────────────┴────────┴───┴────────┴──────────────────────┴────────────────────────┴──────────────────┘"
      ]
     },
     "execution_count": 25,
     "metadata": {},
     "output_type": "execute_result"
    }
   ],
   "source": [
    "transaction"
   ]
  },
  {
   "cell_type": "code",
   "execution_count": 26,
   "id": "bc20deda-e8f5-4701-b40f-bc15e637f64a",
   "metadata": {},
   "outputs": [
    {
     "data": {
      "text/html": [
       "<div><style>\n",
       ".dataframe > thead > tr,\n",
       ".dataframe > tbody > tr {\n",
       "  text-align: right;\n",
       "  white-space: pre-wrap;\n",
       "}\n",
       "</style>\n",
       "<small>shape: (0, 12)</small><table border=\"1\" class=\"dataframe\"><thead><tr><th>DATE</th><th>STORE_NBR</th><th>LYLTY_CARD_NBR</th><th>TXN_ID</th><th>PROD_NBR</th><th>PROD_NAME</th><th>PROD_QTY</th><th>TOT_SALES</th><th>weight</th><th>mapping</th><th>LIFESTAGE</th><th>PREMIUM_CUSTOMER</th></tr><tr><td>date</td><td>i64</td><td>i64</td><td>i64</td><td>i64</td><td>str</td><td>i64</td><td>f64</td><td>i64</td><td>str</td><td>str</td><td>str</td></tr></thead><tbody></tbody></table></div>"
      ],
      "text/plain": [
       "shape: (0, 12)\n",
       "┌──────┬───────────┬────────────────┬────────┬───┬────────┬─────────┬───────────┬──────────────────┐\n",
       "│ DATE ┆ STORE_NBR ┆ LYLTY_CARD_NBR ┆ TXN_ID ┆ … ┆ weight ┆ mapping ┆ LIFESTAGE ┆ PREMIUM_CUSTOMER │\n",
       "│ ---  ┆ ---       ┆ ---            ┆ ---    ┆   ┆ ---    ┆ ---     ┆ ---       ┆ ---              │\n",
       "│ date ┆ i64       ┆ i64            ┆ i64    ┆   ┆ i64    ┆ str     ┆ str       ┆ str              │\n",
       "╞══════╪═══════════╪════════════════╪════════╪═══╪════════╪═════════╪═══════════╪══════════════════╡\n",
       "└──────┴───────────┴────────────────┴────────┴───┴────────┴─────────┴───────────┴──────────────────┘"
      ]
     },
     "execution_count": 26,
     "metadata": {},
     "output_type": "execute_result"
    }
   ],
   "source": [
    "transaction.filter(pl.col(\"LIFESTAGE\").is_null() | pl.col(\"PREMIUM_CUSTOMER\").is_null())"
   ]
  },
  {
   "cell_type": "code",
   "execution_count": null,
   "id": "46bc437d-7808-417f-a82c-197bc9cca41a",
   "metadata": {},
   "outputs": [],
   "source": []
  },
  {
   "cell_type": "markdown",
   "id": "06838ca6-063f-46a5-b5da-93715f77dc13",
   "metadata": {},
   "source": [
    "### Q1. What is the number of purchases for each product."
   ]
  },
  {
   "cell_type": "code",
   "execution_count": 27,
   "id": "b9c6413a-b25a-40e3-8744-f7ab8c6a5c4d",
   "metadata": {},
   "outputs": [
    {
     "name": "stdout",
     "output_type": "stream",
     "text": [
      "shape: (10, 2)\n",
      "┌─────────────────────────────────┬──────┐\n",
      "│ PROD_NAME                       ┆ len  │\n",
      "│ ---                             ┆ ---  │\n",
      "│ str                             ┆ u32  │\n",
      "╞═════════════════════════════════╪══════╡\n",
      "│ Kettle Mozzarella Basil & Pest… ┆ 3304 │\n",
      "│ Kettle Tortilla ChpsHny&Jlpno … ┆ 3296 │\n",
      "│ Cobs Popd Swt/Chlli &Sr/Cream … ┆ 3269 │\n",
      "│ Tyrrells Crisps Ched & Chives … ┆ 3268 │\n",
      "│ Cobs Popd Sea Salt Chips 110g   ┆ 3265 │\n",
      "│ Kettle 135g Swt Pot Sea Salt    ┆ 3257 │\n",
      "│ Tostitos Splash Of Lime 175g    ┆ 3252 │\n",
      "│ Infuzions Thai SweetChili Pota… ┆ 3242 │\n",
      "│ Smiths Crnkle Chip Orgnl Big B… ┆ 3233 │\n",
      "│ Thins Potato Chips Hot & Spicy… ┆ 3229 │\n",
      "└─────────────────────────────────┴──────┘\n"
     ]
    }
   ],
   "source": [
    "print(transaction.group_by('PROD_NAME').len().sort(by='len', descending=True).head(10))"
   ]
  },
  {
   "cell_type": "code",
   "execution_count": 35,
   "id": "f03f35c3-24f4-445c-bbd7-fa99888c9bd8",
   "metadata": {},
   "outputs": [],
   "source": [
    "#transaction.group_by('PROD_NAME').len().glimpse(max_items_per_column=200)"
   ]
  },
  {
   "cell_type": "code",
   "execution_count": 25,
   "id": "5d382314-5a59-4491-96d7-5fe99b461ef8",
   "metadata": {},
   "outputs": [],
   "source": [
    "product_count = transaction.group_by('PROD_NAME').len()"
   ]
  },
  {
   "cell_type": "code",
   "execution_count": 37,
   "id": "b5957702-90cd-44ee-84e6-097186bea792",
   "metadata": {},
   "outputs": [],
   "source": [
    "product_count.write_csv('product_count.csv')"
   ]
  },
  {
   "cell_type": "code",
   "execution_count": 9,
   "id": "817b22f1-7813-4dab-9caf-1d31803db981",
   "metadata": {},
   "outputs": [
    {
     "data": {
      "text/plain": [
       "'\\ntemp = product_count[\\'PROD_NAME\\'].str.contains(\"(?i)salsa\").alias(\"regex\")\\nproduct_count.filter(temp[\\'regex\\'])\\n'"
      ]
     },
     "execution_count": 9,
     "metadata": {},
     "output_type": "execute_result"
    }
   ],
   "source": [
    "# The following code does not work for some reason\n",
    "\"\"\"\n",
    "temp = product_count['PROD_NAME'].str.contains(\"(?i)salsa\").alias(\"regex\")\n",
    "product_count.filter(temp['regex'])\n",
    "\"\"\""
   ]
  },
  {
   "cell_type": "code",
   "execution_count": null,
   "id": "cc562c3b-ac0c-4f3c-8b8a-0adfd924b492",
   "metadata": {},
   "outputs": [],
   "source": []
  },
  {
   "cell_type": "markdown",
   "id": "eb6ba7ce-d84d-4251-bddc-19a18b8c1cd7",
   "metadata": {},
   "source": [
    "### Q2 What is the number of transactions over time?"
   ]
  },
  {
   "cell_type": "code",
   "execution_count": 28,
   "id": "ce22613f-df9c-4b92-8f45-d5cb72969476",
   "metadata": {},
   "outputs": [],
   "source": [
    "import matplotlib.pyplot as plt"
   ]
  },
  {
   "cell_type": "code",
   "execution_count": 29,
   "id": "0b39dcb4-bf7d-4f6e-8ebd-31bbc0ef355e",
   "metadata": {},
   "outputs": [],
   "source": [
    "num_transactions = (transaction\n",
    "                    .group_by('DATE')\n",
    "                    .len()\n",
    "                    .sort('DATE', descending=False))"
   ]
  },
  {
   "cell_type": "code",
   "execution_count": 30,
   "id": "8ffd7c06-36ae-42e0-9895-96a2c2ef7431",
   "metadata": {},
   "outputs": [
    {
     "data": {
      "text/plain": [
       "[<matplotlib.lines.Line2D at 0x1e40aeb3950>]"
      ]
     },
     "execution_count": 30,
     "metadata": {},
     "output_type": "execute_result"
    },
    {
     "data": {
      "image/png": "[encoded data removed]",
      "text/plain": [
       "<Figure size 640x480 with 1 Axes>"
      ]
     },
     "metadata": {},
     "output_type": "display_data"
    }
   ],
   "source": [
    "# We can see a massive spike near the end of the year.\n",
    "# This is likely because of the time being near Christmas or New Year Eve\n",
    "plt.plot(num_transactions['DATE'], num_transactions['len'])"
   ]
  },
  {
   "cell_type": "code",
   "execution_count": 31,
   "id": "4a54e91b-4ba4-4fb9-8b12-759217612095",
   "metadata": {},
   "outputs": [
    {
     "data": {
      "text/html": [
       "<div><style>\n",
       ".dataframe > thead > tr,\n",
       ".dataframe > tbody > tr {\n",
       "  text-align: right;\n",
       "  white-space: pre-wrap;\n",
       "}\n",
       "</style>\n",
       "<small>shape: (8, 2)</small><table border=\"1\" class=\"dataframe\"><thead><tr><th>DATE</th><th>len</th></tr><tr><td>date</td><td>u32</td></tr></thead><tbody><tr><td>2018-12-18</td><td>801</td></tr><tr><td>2018-12-19</td><td>845</td></tr><tr><td>2018-12-20</td><td>812</td></tr><tr><td>2018-12-21</td><td>786</td></tr><tr><td>2018-12-22</td><td>850</td></tr><tr><td>2018-12-23</td><td>857</td></tr><tr><td>2018-12-24</td><td>872</td></tr><tr><td>2019-06-07</td><td>765</td></tr></tbody></table></div>"
      ],
      "text/plain": [
       "shape: (8, 2)\n",
       "┌────────────┬─────┐\n",
       "│ DATE       ┆ len │\n",
       "│ ---        ┆ --- │\n",
       "│ date       ┆ u32 │\n",
       "╞════════════╪═════╡\n",
       "│ 2018-12-18 ┆ 801 │\n",
       "│ 2018-12-19 ┆ 845 │\n",
       "│ 2018-12-20 ┆ 812 │\n",
       "│ 2018-12-21 ┆ 786 │\n",
       "│ 2018-12-22 ┆ 850 │\n",
       "│ 2018-12-23 ┆ 857 │\n",
       "│ 2018-12-24 ┆ 872 │\n",
       "│ 2019-06-07 ┆ 765 │\n",
       "└────────────┴─────┘"
      ]
     },
     "execution_count": 31,
     "metadata": {},
     "output_type": "execute_result"
    }
   ],
   "source": [
    "# We can see from the output the cause is due to 2018-12-18 to 2018-12-24 being lead up to Christmas\n",
    "num_transactions.filter(num_transactions['len']>750)"
   ]
  },
  {
   "cell_type": "code",
   "execution_count": null,
   "id": "902dc8b9-2bec-47ee-bd33-2e4595083669",
   "metadata": {},
   "outputs": [],
   "source": []
  },
  {
   "cell_type": "markdown",
   "id": "6e035008-af02-43b1-974c-5faba6cd1772",
   "metadata": {},
   "source": [
    "### Q3 What are the top 10 products over time going by sales?"
   ]
  },
  {
   "cell_type": "code",
   "execution_count": 32,
   "id": "9df77153-f51b-44d9-a00e-989764fe7f08",
   "metadata": {},
   "outputs": [
    {
     "data": {
      "text/html": [
       "<div><style>\n",
       ".dataframe > thead > tr,\n",
       ".dataframe > tbody > tr {\n",
       "  text-align: right;\n",
       "  white-space: pre-wrap;\n",
       "}\n",
       "</style>\n",
       "<small>shape: (10, 2)</small><table border=\"1\" class=\"dataframe\"><thead><tr><th>PROD_NAME</th><th>TOT_SALES</th></tr><tr><td>str</td><td>f64</td></tr></thead><tbody><tr><td>&quot;Kettle Original 175g&quot;</td><td>32740.2</td></tr><tr><td>&quot;Kettle Sea Salt And Vinegar 17…</td><td>32589.0</td></tr><tr><td>&quot;Twisties Cheese Burger 250g&quot;</td><td>26096.7</td></tr><tr><td>&quot;Pringles Sweet&amp;Spcy BBQ 134g&quot;</td><td>22477.5</td></tr><tr><td>&quot;Pringles Slt Vingar 134g&quot;</td><td>21963.2</td></tr><tr><td>&quot;Thins Chips Salt &amp; Vinegar 175…</td><td>19575.6</td></tr><tr><td>&quot;Natural ChipCo Sea Salt &amp; Vine…</td><td>8733.0</td></tr><tr><td>&quot;Red Rock Deli Thai Chilli&amp;Lime…</td><td>7589.7</td></tr><tr><td>&quot;Cheezels Cheese Box 125g&quot;</td><td>5733.0</td></tr><tr><td>&quot;Woolworths Cheese Rings 190g&quot;</td><td>5169.6</td></tr></tbody></table></div>"
      ],
      "text/plain": [
       "shape: (10, 2)\n",
       "┌─────────────────────────────────┬───────────┐\n",
       "│ PROD_NAME                       ┆ TOT_SALES │\n",
       "│ ---                             ┆ ---       │\n",
       "│ str                             ┆ f64       │\n",
       "╞═════════════════════════════════╪═══════════╡\n",
       "│ Kettle Original 175g            ┆ 32740.2   │\n",
       "│ Kettle Sea Salt And Vinegar 17… ┆ 32589.0   │\n",
       "│ Twisties Cheese Burger 250g     ┆ 26096.7   │\n",
       "│ Pringles Sweet&Spcy BBQ 134g    ┆ 22477.5   │\n",
       "│ Pringles Slt Vingar 134g        ┆ 21963.2   │\n",
       "│ Thins Chips Salt & Vinegar 175… ┆ 19575.6   │\n",
       "│ Natural ChipCo Sea Salt & Vine… ┆ 8733.0    │\n",
       "│ Red Rock Deli Thai Chilli&Lime… ┆ 7589.7    │\n",
       "│ Cheezels Cheese Box 125g        ┆ 5733.0    │\n",
       "│ Woolworths Cheese Rings 190g    ┆ 5169.6    │\n",
       "└─────────────────────────────────┴───────────┘"
      ]
     },
     "execution_count": 32,
     "metadata": {},
     "output_type": "execute_result"
    }
   ],
   "source": [
    "# We can see that the top performing product is Kettle Original\n",
    "# What is very interesting in particular us the big jump in sales going from Natural Chip Co to Thins\n",
    "transaction.group_by('PROD_NAME').sum()[['PROD_NAME', 'TOT_SALES']].head(10).sort('TOT_SALES', descending=True)"
   ]
  },
  {
   "cell_type": "code",
   "execution_count": null,
   "id": "bff2eb4c-bf6e-4757-86ae-eb4b152f41ae",
   "metadata": {},
   "outputs": [],
   "source": []
  },
  {
   "cell_type": "markdown",
   "id": "82b954ad-7b21-46b7-a692-28496e7a3f4a",
   "metadata": {},
   "source": [
    "### Q4 How is product weight distributed?"
   ]
  },
  {
   "cell_type": "code",
   "execution_count": null,
   "id": "d48fdb0a-f0be-4fd6-abcc-a931a22b804c",
   "metadata": {},
   "outputs": [],
   "source": [
    "# We can see from the bar plot/dataframe below the most preferred product weight is 175g"
   ]
  },
  {
   "cell_type": "code",
   "execution_count": 33,
   "id": "dbd6d1dd-e304-4580-ba8e-3f03c6a3e10f",
   "metadata": {
    "scrolled": true
   },
   "outputs": [
    {
     "name": "stdout",
     "output_type": "stream",
     "text": [
      "70\n",
      "90\n",
      "110\n",
      "125\n",
      "134\n",
      "135\n",
      "150\n",
      "160\n",
      "165\n",
      "170\n",
      "175\n",
      "180\n",
      "190\n",
      "200\n",
      "210\n",
      "220\n",
      "250\n",
      "270\n",
      "330\n",
      "380\n"
     ]
    }
   ],
   "source": [
    "print(*transaction['weight'].unique().to_list(), sep='\\n')"
   ]
  },
  {
   "cell_type": "code",
   "execution_count": 34,
   "id": "7d07d11b-a912-48db-8f80-adc29d4b1adf",
   "metadata": {},
   "outputs": [],
   "source": [
    "weight_counts = transaction['weight'].value_counts(sort=True)"
   ]
  },
  {
   "cell_type": "code",
   "execution_count": 35,
   "id": "35fcce68-7ddf-4619-9dc1-944b4d4563c4",
   "metadata": {},
   "outputs": [
    {
     "data": {
      "text/html": [
       "<div><style>\n",
       ".dataframe > thead > tr,\n",
       ".dataframe > tbody > tr {\n",
       "  text-align: right;\n",
       "  white-space: pre-wrap;\n",
       "}\n",
       "</style>\n",
       "<small>shape: (10, 2)</small><table border=\"1\" class=\"dataframe\"><thead><tr><th>weight</th><th>count</th></tr><tr><td>i64</td><td>u32</td></tr></thead><tbody><tr><td>175</td><td>66390</td></tr><tr><td>150</td><td>41673</td></tr><tr><td>134</td><td>25102</td></tr><tr><td>110</td><td>22387</td></tr><tr><td>170</td><td>19983</td></tr><tr><td>165</td><td>15297</td></tr><tr><td>330</td><td>12540</td></tr><tr><td>380</td><td>6416</td></tr><tr><td>270</td><td>6285</td></tr><tr><td>210</td><td>6272</td></tr></tbody></table></div>"
      ],
      "text/plain": [
       "shape: (10, 2)\n",
       "┌────────┬───────┐\n",
       "│ weight ┆ count │\n",
       "│ ---    ┆ ---   │\n",
       "│ i64    ┆ u32   │\n",
       "╞════════╪═══════╡\n",
       "│ 175    ┆ 66390 │\n",
       "│ 150    ┆ 41673 │\n",
       "│ 134    ┆ 25102 │\n",
       "│ 110    ┆ 22387 │\n",
       "│ 170    ┆ 19983 │\n",
       "│ 165    ┆ 15297 │\n",
       "│ 330    ┆ 12540 │\n",
       "│ 380    ┆ 6416  │\n",
       "│ 270    ┆ 6285  │\n",
       "│ 210    ┆ 6272  │\n",
       "└────────┴───────┘"
      ]
     },
     "execution_count": 35,
     "metadata": {},
     "output_type": "execute_result"
    }
   ],
   "source": [
    "weight_counts.head(10)"
   ]
  },
  {
   "cell_type": "code",
   "execution_count": 36,
   "id": "ceeeb7b3-f001-4cd1-a5ba-0893cc53dd8c",
   "metadata": {},
   "outputs": [
    {
     "data": {
      "text/plain": [
       "<BarContainer object of 20 artists>"
      ]
     },
     "execution_count": 36,
     "metadata": {},
     "output_type": "execute_result"
    },
    {
     "data": {
      "image/png": "[encoded data removed]",
      "text/plain": [
       "<Figure size 640x480 with 1 Axes>"
      ]
     },
     "metadata": {},
     "output_type": "display_data"
    }
   ],
   "source": [
    "plt.bar(x=weight_counts['weight'], height=weight_counts['count'])"
   ]
  },
  {
   "cell_type": "code",
   "execution_count": 57,
   "id": "c29150f0-0685-4910-a33c-2690d5aa7dc3",
   "metadata": {},
   "outputs": [],
   "source": [
    "weight_counts.write_csv('weights.csv')"
   ]
  },
  {
   "cell_type": "code",
   "execution_count": null,
   "id": "f280d75d-6432-453f-9a1c-c3c49a525c95",
   "metadata": {},
   "outputs": [],
   "source": []
  },
  {
   "cell_type": "markdown",
   "id": "b5242d11-a40f-4d21-af45-120ebd30a1fe",
   "metadata": {},
   "source": [
    "### Q5. How does lifestage affect chip spending?"
   ]
  },
  {
   "cell_type": "code",
   "execution_count": 37,
   "id": "b020c626-4271-4199-9e52-be236b4157b8",
   "metadata": {},
   "outputs": [
    {
     "data": {
      "text/html": [
       "<div><style>\n",
       ".dataframe > thead > tr,\n",
       ".dataframe > tbody > tr {\n",
       "  text-align: right;\n",
       "  white-space: pre-wrap;\n",
       "}\n",
       "</style>\n",
       "<small>shape: (7, 2)</small><table border=\"1\" class=\"dataframe\"><thead><tr><th>LIFESTAGE</th><th>TOT_SALES</th></tr><tr><td>str</td><td>f64</td></tr></thead><tbody><tr><td>&quot;MIDAGE SINGLES/COUPLES&quot;</td><td>7.355373</td></tr><tr><td>&quot;OLDER SINGLES/COUPLES&quot;</td><td>7.388932</td></tr><tr><td>&quot;YOUNG FAMILIES&quot;</td><td>7.260996</td></tr><tr><td>&quot;OLDER FAMILIES&quot;</td><td>7.260064</td></tr><tr><td>&quot;YOUNG SINGLES/COUPLES&quot;</td><td>7.162742</td></tr><tr><td>&quot;NEW FAMILIES&quot;</td><td>7.273449</td></tr><tr><td>&quot;RETIREES&quot;</td><td>7.360632</td></tr></tbody></table></div>"
      ],
      "text/plain": [
       "shape: (7, 2)\n",
       "┌────────────────────────┬───────────┐\n",
       "│ LIFESTAGE              ┆ TOT_SALES │\n",
       "│ ---                    ┆ ---       │\n",
       "│ str                    ┆ f64       │\n",
       "╞════════════════════════╪═══════════╡\n",
       "│ MIDAGE SINGLES/COUPLES ┆ 7.355373  │\n",
       "│ OLDER SINGLES/COUPLES  ┆ 7.388932  │\n",
       "│ YOUNG FAMILIES         ┆ 7.260996  │\n",
       "│ OLDER FAMILIES         ┆ 7.260064  │\n",
       "│ YOUNG SINGLES/COUPLES  ┆ 7.162742  │\n",
       "│ NEW FAMILIES           ┆ 7.273449  │\n",
       "│ RETIREES               ┆ 7.360632  │\n",
       "└────────────────────────┴───────────┘"
      ]
     },
     "execution_count": 37,
     "metadata": {},
     "output_type": "execute_result"
    }
   ],
   "source": [
    "\"\"\"\n",
    "Going by TOT_SALES the average amount money spent in a transaction in buying chips is about 7.2 dollars\n",
    "This does not consider average price of a chip packet or the total sum of sales across all dates\n",
    "\n",
    "Interestingly singles/couples spend more in a single transaction then families with the exception of young singles/couples.\n",
    "\"\"\"\n",
    "transaction.group_by(\"LIFESTAGE\").mean()[['LIFESTAGE', 'TOT_SALES']]"
   ]
  },
  {
   "cell_type": "code",
   "execution_count": null,
   "id": "2144b68e-3fc2-4252-b0d3-7b1dfabfbb9e",
   "metadata": {},
   "outputs": [],
   "source": []
  }
 ],
 "metadata": {
  "kernelspec": {
   "display_name": "base",
   "language": "python",
   "name": "base"
  },
  "language_info": {
   "codemirror_mode": {
    "name": "ipython",
    "version": 3
   },
   "file_extension": ".py",
   "mimetype": "text/x-python",
   "name": "python",
   "nbconvert_exporter": "python",
   "pygments_lexer": "ipython3",
   "version": "3.12.3"
  }
 },
 "nbformat": 4,
 "nbformat_minor": 5
}
